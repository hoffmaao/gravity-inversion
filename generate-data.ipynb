{
 "cells": [
  {
   "cell_type": "code",
   "execution_count": 6,
   "id": "compressed-legend",
   "metadata": {},
   "outputs": [
    {
     "name": "stdout",
     "output_type": "stream",
     "text": [
      "Running with 100 points and method point-cloud\n"
     ]
    },
    {
     "name": "stderr",
     "output_type": "stream",
     "text": [
      "usage: ipykernel_launcher.py [-h] num_points method\n",
      "ipykernel_launcher.py: error: argument num_points: invalid int value: '/Users/andrew/Library/Jupyter/runtime/kernel-c015ec64-9f86-42b0-8f07-27472bd66fde.json'\n",
      "<ipython-input-6-86f412619182>:36: UserWarning: Failed to parse arguments. Defaulting to num_points = 4 and method = point-cloud\n",
      "  warnings.warn(f'Failed to parse arguments. Defaulting to num_points = 4 and method = point-cloud')\n"
     ]
    }
   ],
   "source": [
    "from scipy.interpolate import (\n",
    "    LinearNDInterpolator,\n",
    "    NearestNDInterpolator,\n",
    "    CloughTocher2DInterpolator,\n",
    "    Rbf,\n",
    ")\n",
    "\n",
    "import matplotlib.pyplot as plt\n",
    "import firedrake\n",
    "import firedrake_adjoint\n",
    "\n",
    "from firedrake import Constant, cos, sin\n",
    "\n",
    "import numpy as np\n",
    "from numpy import pi as π\n",
    "from numpy import random\n",
    "\n",
    "import matplotlib.pyplot as plt\n",
    "from mpl_toolkits.axes_grid1 import make_axes_locatable\n",
    "\n",
    "import os, sys\n",
    "\n",
    "currentdir = os.path.dirname(os.path.realpath('__file__'))\n",
    "\n",
    "import argparse\n",
    "\n",
    "parser = argparse.ArgumentParser(description='Estimate q using pyadjoint with a given number of point samples of u_true and chosen method. Expects to find a Firedrake checkpoint file \\'true-fields.h5\\' in the import directory.')\n",
    "parser.add_argument('num_points', type=int, help='The number of points to sample from u_true. Points and measurements be identified from \\'observed-data.h5\\' or created and saved to it.')\n",
    "parser.add_argument('method', help=\"The method to use: one of point-cloud, nearest, linear, clough-tocher, or gaussian\")\n",
    "try:\n",
    "    args = parser.parse_args()\n",
    "    num_points = args.num_points\n",
    "    method = args.method\n",
    "except:\n",
    "    import warnings\n",
    "    warnings.warn(f'Failed to parse arguments. Defaulting to num_points = 4 and method = point-cloud')\n",
    "    num_points = 100\n",
    "    method = 'point-cloud'\n",
    "\n",
    "methods = ['point-cloud', 'nearest', 'linear', 'clough-tocher', 'gaussian']\n",
    "\n",
    "# If running as notebook use default of 4 points and method 'point-cloud'\n",
    "if method not in methods:\n",
    "    import warnings\n",
    "    warnings.warn(f'Got unexpected method argument {method} defaulting to point-cloud')\n",
    "    method = 'point-cloud'\n",
    "    \n",
    "print(f\"Running with {num_points} points and method {method}\")\n",
    "\n",
    "seed = 1729"
   ]
  },
  {
   "cell_type": "code",
   "execution_count": 7,
   "id": "rapid-holly",
   "metadata": {},
   "outputs": [],
   "source": [
    "mesh = firedrake.UnitSquareMesh(32, 32)\n",
    "\n",
    "# Solution Space\n",
    "V = firedrake.FunctionSpace(mesh, family='CG', degree=2)\n",
    "\n",
    "# q (Control) Space\n",
    "Q = firedrake.FunctionSpace(mesh, family='CG', degree=2)"
   ]
  },
  {
   "cell_type": "code",
   "execution_count": 8,
   "id": "statewide-eclipse",
   "metadata": {},
   "outputs": [
    {
     "name": "stdout",
     "output_type": "stream",
     "text": [
      "Have fake q_true and u_true\n"
     ]
    }
   ],
   "source": [
    "q_true = firedrake.Function(V, name='q_true')\n",
    "u_true = firedrake.Function(V, name='u_true')\n",
    "filename = os.path.join(currentdir, 'true-fields')\n",
    "with firedrake.DumbCheckpoint(filename, mode=firedrake.FILE_READ) as chk:\n",
    "    chk.load(q_true, name='q_true')\n",
    "    chk.load(u_true, name='u_true')\n",
    "    \n",
    "print(\"Have fake q_true and u_true\")"
   ]
  },
  {
   "cell_type": "code",
   "execution_count": 9,
   "id": "veterinary-spiritual",
   "metadata": {},
   "outputs": [
    {
     "name": "stdout",
     "output_type": "stream",
     "text": [
      "Generated and saved xs, u_obs_vals and sigma for 100 points.\n"
     ]
    }
   ],
   "source": [
    "import h5py\n",
    "\n",
    "filename = os.path.join(currentdir, 'observed-data.h5')\n",
    "\n",
    "try:\n",
    "    # Load if available\n",
    "    with h5py.File(filename, 'r') as file:\n",
    "        xs = file[f\"xs_{num_points}\"][:]\n",
    "        u_obs_vals = file[f\"u_obs_vals_{num_points}\"][:]\n",
    "        σ = firedrake.Constant(file[f\"sigma_{num_points}\"])\n",
    "        print(f\"Loaded xs, u_obs_vals and sigma for {num_points} points.\")\n",
    "except (OSError, KeyError) as e:\n",
    "    # Generate\n",
    "    np.random.seed(0)\n",
    "    xs = np.random.random_sample((num_points, 2))\n",
    "    xs[:,1]=.9\n",
    "    signal_to_noise = 20\n",
    "    U = u_true.dat.data_ro[:]\n",
    "    u_range = U.max() - U.min()\n",
    "    σ = firedrake.Constant(u_range / signal_to_noise)\n",
    "    generator = random.default_rng(seed)\n",
    "    ζ = generator.standard_normal(len(xs))\n",
    "    u_obs_vals = np.array(u_true.at(xs)) + float(σ) * ζ\n",
    "    # Save\n",
    "    with h5py.File(filename, 'a') as file:\n",
    "        file.create_dataset(f\"xs_{num_points}\", data=xs)\n",
    "        file.create_dataset(f\"u_obs_vals_{num_points}\", data=u_obs_vals)\n",
    "        file.create_dataset(f\"sigma_{num_points}\", data=σ.values()[0])\n",
    "    print(f\"Generated and saved xs, u_obs_vals and sigma for {num_points} points.\")"
   ]
  },
  {
   "cell_type": "code",
   "execution_count": null,
   "id": "everyday-minneapolis",
   "metadata": {},
   "outputs": [],
   "source": []
  }
 ],
 "metadata": {
  "kernelspec": {
   "display_name": "firedrake",
   "language": "python",
   "name": "firedrake"
  },
  "language_info": {
   "codemirror_mode": {
    "name": "ipython",
    "version": 3
   },
   "file_extension": ".py",
   "mimetype": "text/x-python",
   "name": "python",
   "nbconvert_exporter": "python",
   "pygments_lexer": "ipython3",
   "version": "3.9.1"
  }
 },
 "nbformat": 4,
 "nbformat_minor": 5
}
